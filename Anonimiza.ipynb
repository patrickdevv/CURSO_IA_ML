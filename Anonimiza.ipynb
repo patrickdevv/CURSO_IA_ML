{
  "nbformat": 4,
  "nbformat_minor": 0,
  "metadata": {
    "colab": {
      "provenance": [],
      "authorship_tag": "ABX9TyNZrfKNcTf1POz/fPXpugaq",
      "include_colab_link": true
    },
    "kernelspec": {
      "name": "python3",
      "display_name": "Python 3"
    },
    "language_info": {
      "name": "python"
    }
  },
  "cells": [
    {
      "cell_type": "markdown",
      "metadata": {
        "id": "view-in-github",
        "colab_type": "text"
      },
      "source": [
        "<a href=\"https://colab.research.google.com/github/patrickdevv/CURSO_IA_ML/blob/main/Anonimiza.ipynb\" target=\"_parent\"><img src=\"https://colab.research.google.com/assets/colab-badge.svg\" alt=\"Open In Colab\"/></a>"
      ]
    },
    {
      "cell_type": "code",
      "execution_count": 2,
      "metadata": {
        "colab": {
          "base_uri": "https://localhost:8080/"
        },
        "id": "hfW3JHr_14DR",
        "outputId": "d1cbeff0-88da-497c-94a4-5136c3c26ad5"
      },
      "outputs": [
        {
          "output_type": "stream",
          "name": "stdout",
          "text": [
            "Collecting Faker\n",
            "  Downloading Faker-26.0.0-py3-none-any.whl (1.8 MB)\n",
            "\u001b[2K     \u001b[90m━━━━━━━━━━━━━━━━━━━━━━━━━━━━━━━━━━━━━━━━\u001b[0m \u001b[32m1.8/1.8 MB\u001b[0m \u001b[31m12.6 MB/s\u001b[0m eta \u001b[36m0:00:00\u001b[0m\n",
            "\u001b[?25hRequirement already satisfied: python-dateutil>=2.4 in /usr/local/lib/python3.10/dist-packages (from Faker) (2.8.2)\n",
            "Requirement already satisfied: six>=1.5 in /usr/local/lib/python3.10/dist-packages (from python-dateutil>=2.4->Faker) (1.16.0)\n",
            "Installing collected packages: Faker\n",
            "Successfully installed Faker-26.0.0\n"
          ]
        }
      ],
      "source": [
        "pip install Faker"
      ]
    },
    {
      "cell_type": "code",
      "source": [
        "from faker import Faker"
      ],
      "metadata": {
        "id": "y8qv4LZP2AHp"
      },
      "execution_count": 3,
      "outputs": []
    },
    {
      "cell_type": "markdown",
      "source": [
        "Cria um registro para teste"
      ],
      "metadata": {
        "id": "KSk3bGAZ6lTP"
      }
    },
    {
      "cell_type": "code",
      "source": [
        "# Crie uma instância do Faker\n",
        "fake = Faker()\n",
        "# Gere um PAN fictício\n",
        "pan = fake.credit_card_number()\n",
        "# Gere uma data de vencimento fictícia\n",
        "dt_vcmt = fake.credit_card_expire()\n",
        "# Gere uma data e hora da transacao ficticia\n",
        "date_time_autz = fake.date_time()\n",
        "# Gere uma valor da transacao ficticia\n",
        "valor_transacao = (fake.random_number(digits=9, fix_len=False)/10)\n",
        "# Gere um codigo de POS fictício\n",
        "cod_pos = fake.random_number(digits=6, fix_len=False)\n",
        "# Gere um cod de estabelecimento fictício\n",
        "cod_estabelecimento = fake.random_number(digits=6, fix_len=False)\n",
        "# Imprima os dados fictícios\n",
        "print(\"PAN: \", pan)\n",
        "print(\"Data Vcmt: \", dt_vcmt)\n",
        "print(\"Data HH Autz: \", date_time_autz)\n",
        "print(\"Vlr Autz: \", valor_transacao)\n",
        "print(\"POS: \", cod_pos)\n",
        "print(\"Cod Estabelecimento: \", cod_estabelecimento)"
      ],
      "metadata": {
        "colab": {
          "base_uri": "https://localhost:8080/"
        },
        "id": "q-NyqZZk2Ix6",
        "outputId": "a9e74484-3f0b-4aa8-a801-540da572ed2b"
      },
      "execution_count": 4,
      "outputs": [
        {
          "output_type": "stream",
          "name": "stdout",
          "text": [
            "PAN:  4722826112406\n",
            "Data Vcmt:  10/33\n",
            "Data HH Autz:  2012-11-10 13:49:37.841712\n",
            "Vlr Autz:  71416030.3\n",
            "POS:  228607\n",
            "Cod Estabelecimento:  110770\n"
          ]
        }
      ]
    },
    {
      "cell_type": "markdown",
      "source": [
        "Cria um arquivo CSV com n registros fakes"
      ],
      "metadata": {
        "id": "Ob_7db6f6tX_"
      }
    },
    {
      "cell_type": "code",
      "source": [
        "import datetime\n",
        "from faker import Faker\n",
        "import random\n",
        "import csv\n",
        "\n",
        "fake = Faker()\n",
        "\n",
        "# Set the number of rows to generate\n",
        "num_rows = 1000000\n",
        "\n",
        "# Define the column headers\n",
        "headers = [\"timestamp\", \"PAN\", \"Data Validade PAN\", \"Valor Autz\", \"POS\",\n",
        "                          \"Estabelecimento\"]\n",
        "\n",
        "# Open a new CSV file for writing\n",
        "with open(\"dados.csv\", \"w\", newline=\"\") as csvfile:\n",
        "    writer = csv.writer(csvfile)\n",
        "\n",
        "    # Write the header row\n",
        "    writer.writerow(headers)\n",
        "\n",
        "    # Generate fake data and write to the CSV file\n",
        "    for i in range(num_rows):\n",
        "      # Gere uma data e hora da transacao ficticia\n",
        "      date_time_autz = fake.date_time()\n",
        "      # Gere um PAN fictício\n",
        "      pan = fake.credit_card_number(card_type='visa16')\n",
        "      # Gere uma data de vencimento fictícia\n",
        "      dt_vcmt = fake.credit_card_expire()\n",
        "      # Gere uma valor da transacao ficticia\n",
        "      valor_transacao = (fake.random_number(fix_len=False)/10)\n",
        "      # Gere um codigo de POS fictício\n",
        "      cod_pos = fake.random_number(digits=6, fix_len=False)\n",
        "      # Gere um cod de estabelecimento fictício\n",
        "      cod_estabelecimento = fake.random_number(digits=6, fix_len=False)\n",
        "\n",
        "      # Write the data to the CSV file\n",
        "      writer.writerow([date_time_autz, pan, dt_vcmt, valor_transacao, cod_pos, cod_estabelecimento])\n"
      ],
      "metadata": {
        "id": "Wjc9XEUw6Oxz"
      },
      "execution_count": null,
      "outputs": []
    },
    {
      "cell_type": "code",
      "source": [],
      "metadata": {
        "id": "1O2xmuUd72QQ"
      },
      "execution_count": null,
      "outputs": []
    }
  ]
}